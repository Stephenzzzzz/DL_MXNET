{
 "cells": [
  {
   "cell_type": "code",
   "execution_count": 1,
   "metadata": {
    "ExecuteTime": {
     "end_time": "2019-05-14T07:02:12.419896Z",
     "start_time": "2019-05-14T07:02:12.232619Z"
    }
   },
   "outputs": [],
   "source": [
    "import d2lzh as d2l\n",
    "from mxnet import gluon, init\n",
    "from mxnet.gluon import loss as gloss, nn"
   ]
  },
  {
   "cell_type": "markdown",
   "metadata": {},
   "source": [
    "### 定义模型"
   ]
  },
  {
   "cell_type": "code",
   "execution_count": 2,
   "metadata": {
    "ExecuteTime": {
     "end_time": "2019-05-14T07:02:35.112013Z",
     "start_time": "2019-05-14T07:02:35.104035Z"
    }
   },
   "outputs": [],
   "source": [
    "net = nn.Sequential()\n",
    "# 添加隐含层，激活函数，以及输出层\n",
    "net.add(nn.Dense(256, activation='relu'),\n",
    "        nn.Dense(10))\n",
    "# 正态随机初始化\n",
    "net.initialize(init.Normal(sigma=0.01))"
   ]
  },
  {
   "cell_type": "markdown",
   "metadata": {},
   "source": [
    "### 读取数据并训练模型"
   ]
  },
  {
   "cell_type": "code",
   "execution_count": 3,
   "metadata": {
    "ExecuteTime": {
     "end_time": "2019-05-14T07:04:45.576531Z",
     "start_time": "2019-05-14T07:04:15.648652Z"
    }
   },
   "outputs": [
    {
     "name": "stdout",
     "output_type": "stream",
     "text": [
      "epoch 1, loss 0.7970, train acc 0.701, test acc 0.789\n",
      "epoch 2, loss 0.4923, train acc 0.817, test acc 0.850\n",
      "epoch 3, loss 0.4253, train acc 0.843, test acc 0.856\n",
      "epoch 4, loss 0.3965, train acc 0.853, test acc 0.868\n",
      "epoch 5, loss 0.3702, train acc 0.865, test acc 0.871\n"
     ]
    }
   ],
   "source": [
    "batch_size = 256\n",
    "train_iter, test_iter = d2l.load_data_fashion_mnist(batch_size)\n",
    "\n",
    "loss = gloss.SoftmaxCrossEntropyLoss()\n",
    "trainer = gluon.Trainer(net.collect_params(), 'sgd', {'learning_rate': 0.5})\n",
    "num_epochs = 5\n",
    "d2l.train_ch3(net, train_iter, test_iter, loss, num_epochs, batch_size, None,\n",
    "              None, trainer) # 用trainer，不用传params,lr"
   ]
  },
  {
   "cell_type": "raw",
   "metadata": {},
   "source": [
    "调参测试："
   ]
  },
  {
   "cell_type": "code",
   "execution_count": 6,
   "metadata": {
    "ExecuteTime": {
     "end_time": "2019-05-14T07:15:19.818134Z",
     "start_time": "2019-05-14T07:14:19.151192Z"
    }
   },
   "outputs": [
    {
     "name": "stdout",
     "output_type": "stream",
     "text": [
      "epoch 1, loss 1.7429, train acc 0.296, test acc 0.640\n",
      "epoch 2, loss 0.8122, train acc 0.686, test acc 0.737\n",
      "epoch 3, loss 0.6237, train acc 0.766, test acc 0.792\n",
      "epoch 4, loss 0.5362, train acc 0.802, test acc 0.822\n",
      "epoch 5, loss 0.4867, train acc 0.823, test acc 0.835\n",
      "epoch 6, loss 0.4521, train acc 0.834, test acc 0.846\n",
      "epoch 7, loss 0.4326, train acc 0.842, test acc 0.851\n",
      "epoch 8, loss 0.4077, train acc 0.849, test acc 0.848\n",
      "epoch 9, loss 0.3981, train acc 0.853, test acc 0.861\n",
      "epoch 10, loss 0.3850, train acc 0.858, test acc 0.861\n"
     ]
    }
   ],
   "source": [
    "net = nn.Sequential()\n",
    "# 添加隐含层，激活函数，以及输出层\n",
    "net.add(nn.Dense(256, activation='sigmoid'),\n",
    "        nn.Dense(64, activation='relu'),\n",
    "        nn.Dense(10))\n",
    "# 正态随机初始化\n",
    "net.initialize(init.Normal(sigma=0.01))\n",
    "\n",
    "batch_size = 256\n",
    "train_iter, test_iter = d2l.load_data_fashion_mnist(batch_size)\n",
    "\n",
    "loss = gloss.SoftmaxCrossEntropyLoss()\n",
    "trainer = gluon.Trainer(net.collect_params(), 'sgd', {'learning_rate': 0.5})\n",
    "num_epochs = 10\n",
    "d2l.train_ch3(net, train_iter, test_iter, loss, num_epochs, batch_size, None,\n",
    "              None, trainer) # 用trainer，不用传params,lr"
   ]
  },
  {
   "cell_type": "code",
   "execution_count": null,
   "metadata": {},
   "outputs": [],
   "source": []
  }
 ],
 "metadata": {
  "kernelspec": {
   "display_name": "gluon",
   "language": "python",
   "name": "gluon"
  },
  "language_info": {
   "codemirror_mode": {
    "name": "ipython",
    "version": 3
   },
   "file_extension": ".py",
   "mimetype": "text/x-python",
   "name": "python",
   "nbconvert_exporter": "python",
   "pygments_lexer": "ipython3",
   "version": "3.6.8"
  },
  "toc": {
   "base_numbering": 1,
   "nav_menu": {},
   "number_sections": true,
   "sideBar": true,
   "skip_h1_title": false,
   "title_cell": "Table of Contents",
   "title_sidebar": "Contents",
   "toc_cell": false,
   "toc_position": {},
   "toc_section_display": true,
   "toc_window_display": false
  },
  "varInspector": {
   "cols": {
    "lenName": 16,
    "lenType": 16,
    "lenVar": 40
   },
   "kernels_config": {
    "python": {
     "delete_cmd_postfix": "",
     "delete_cmd_prefix": "del ",
     "library": "var_list.py",
     "varRefreshCmd": "print(var_dic_list())"
    },
    "r": {
     "delete_cmd_postfix": ") ",
     "delete_cmd_prefix": "rm(",
     "library": "var_list.r",
     "varRefreshCmd": "cat(var_dic_list()) "
    }
   },
   "types_to_exclude": [
    "module",
    "function",
    "builtin_function_or_method",
    "instance",
    "_Feature"
   ],
   "window_display": false
  }
 },
 "nbformat": 4,
 "nbformat_minor": 2
}
