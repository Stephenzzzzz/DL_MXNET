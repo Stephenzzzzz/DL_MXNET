{
 "cells": [
  {
   "cell_type": "code",
   "execution_count": 1,
   "metadata": {
    "ExecuteTime": {
     "end_time": "2019-05-14T06:27:23.054032Z",
     "start_time": "2019-05-14T06:27:22.883504Z"
    }
   },
   "outputs": [],
   "source": [
    "%matplotlib inline\n",
    "import d2lzh as d2l\n",
    "from mxnet import nd\n",
    "from mxnet.gluon import loss as gloss"
   ]
  },
  {
   "cell_type": "markdown",
   "metadata": {},
   "source": [
    "### 获取和读取数据"
   ]
  },
  {
   "cell_type": "code",
   "execution_count": 3,
   "metadata": {
    "ExecuteTime": {
     "end_time": "2019-05-14T06:28:07.234129Z",
     "start_time": "2019-05-14T06:28:06.714659Z"
    }
   },
   "outputs": [],
   "source": [
    "batch_size = 256\n",
    "train_iter, test_iter = d2l.load_data_fashion_mnist(batch_size)"
   ]
  },
  {
   "cell_type": "markdown",
   "metadata": {},
   "source": [
    "### 定义模型参数"
   ]
  },
  {
   "cell_type": "code",
   "execution_count": 4,
   "metadata": {
    "ExecuteTime": {
     "end_time": "2019-05-14T06:30:14.231349Z",
     "start_time": "2019-05-14T06:30:14.225366Z"
    }
   },
   "outputs": [],
   "source": [
    "num_inputs, num_outputs, num_hiddens = 784, 10, 256\n",
    "# 第一层以num_inputs为输入，num_hiddens为输出\n",
    "W1 = nd.random.normal(scale=0.01, shape=(num_inputs, num_hiddens))\n",
    "b1 = nd.zeros(num_hiddens)\n",
    "# 第二层以num_hiddens为输入，num_outputs为输出\n",
    "W2 = nd.random.normal(scale=0.01, shape=(num_hiddens, num_outputs))\n",
    "b2 = nd.zeros(num_outputs)\n",
    "\n",
    "params = [W1, b1, W2, b2]\n",
    "\n",
    "for param in params:\n",
    "    param.attach_grad()"
   ]
  },
  {
   "cell_type": "markdown",
   "metadata": {},
   "source": [
    "### 定义激活函数"
   ]
  },
  {
   "cell_type": "code",
   "execution_count": 5,
   "metadata": {
    "ExecuteTime": {
     "end_time": "2019-05-14T06:30:45.918243Z",
     "start_time": "2019-05-14T06:30:45.914234Z"
    }
   },
   "outputs": [],
   "source": [
    "def relu(X):\n",
    "    return nd.maximum(X, 0)"
   ]
  },
  {
   "cell_type": "markdown",
   "metadata": {},
   "source": [
    "### 定义模型"
   ]
  },
  {
   "cell_type": "code",
   "execution_count": 6,
   "metadata": {
    "ExecuteTime": {
     "end_time": "2019-05-14T06:32:28.494511Z",
     "start_time": "2019-05-14T06:32:28.489524Z"
    }
   },
   "outputs": [],
   "source": [
    "def net(X):\n",
    "    # 先通过reshape函数将每张原始图像改成长度为num_inputs的向量\n",
    "    X = X.reshape((-1, num_inputs))\n",
    "    # 第一层先过线性模型再激活，输出\n",
    "    H = relu(nd.dot(X, W1) + b1)\n",
    "    # 第二层过线性模型，结果不用softmax，softmax放到损失函数那一块\n",
    "    return nd.dot(H, W2) + b2"
   ]
  },
  {
   "cell_type": "markdown",
   "metadata": {},
   "source": [
    "### 定义损失函数"
   ]
  },
  {
   "cell_type": "code",
   "execution_count": 7,
   "metadata": {
    "ExecuteTime": {
     "end_time": "2019-05-14T06:33:58.893419Z",
     "start_time": "2019-05-14T06:33:58.889453Z"
    }
   },
   "outputs": [],
   "source": [
    "# 为了得到更好的数值稳定性，我们直接使用Gluon提供的包括softmax运算和交叉熵损失计算的函数\n",
    "loss = gloss.SoftmaxCrossEntropyLoss()"
   ]
  },
  {
   "cell_type": "markdown",
   "metadata": {},
   "source": [
    "### 训练模型"
   ]
  },
  {
   "cell_type": "code",
   "execution_count": 8,
   "metadata": {
    "ExecuteTime": {
     "end_time": "2019-05-14T06:36:39.371822Z",
     "start_time": "2019-05-14T06:36:11.042053Z"
    }
   },
   "outputs": [
    {
     "name": "stdout",
     "output_type": "stream",
     "text": [
      "epoch 1, loss 0.7826, train acc 0.704, test acc 0.819\n",
      "epoch 2, loss 0.4775, train acc 0.823, test acc 0.848\n",
      "epoch 3, loss 0.4245, train acc 0.843, test acc 0.859\n",
      "epoch 4, loss 0.3914, train acc 0.855, test acc 0.840\n",
      "epoch 5, loss 0.3705, train acc 0.863, test acc 0.873\n"
     ]
    }
   ],
   "source": [
    "num_epochs, lr = 5, 0.5\n",
    "d2l.train_ch3(net, train_iter, test_iter, loss, num_epochs, batch_size,\n",
    "              params, lr) # 不用trainer就要加上params,lr"
   ]
  },
  {
   "cell_type": "raw",
   "metadata": {},
   "source": [
    "调参测试："
   ]
  },
  {
   "cell_type": "code",
   "execution_count": 11,
   "metadata": {
    "ExecuteTime": {
     "end_time": "2019-05-14T06:50:59.633183Z",
     "start_time": "2019-05-14T06:50:23.369786Z"
    }
   },
   "outputs": [
    {
     "name": "stdout",
     "output_type": "stream",
     "text": [
      "epoch 1, loss 0.7944, train acc 0.700, test acc 0.818\n",
      "epoch 2, loss 0.4820, train acc 0.821, test acc 0.850\n",
      "epoch 3, loss 0.4281, train acc 0.842, test acc 0.853\n",
      "epoch 4, loss 0.3907, train acc 0.856, test acc 0.864\n",
      "epoch 5, loss 0.3676, train acc 0.864, test acc 0.853\n"
     ]
    }
   ],
   "source": [
    "batch_size = 256\n",
    "train_iter, test_iter = d2l.load_data_fashion_mnist(batch_size)\n",
    "\n",
    "num_inputs, num_outputs, num_hiddens = 784, 10, 500\n",
    "# 第一层以num_inputs为输入，num_hiddens为输出\n",
    "W1 = nd.random.normal(scale=0.01, shape=(num_inputs, num_hiddens))\n",
    "b1 = nd.zeros(num_hiddens)\n",
    "# 第二层以num_hiddens为输入，num_outputs为输出\n",
    "W2 = nd.random.normal(scale=0.01, shape=(num_hiddens, num_outputs))\n",
    "b2 = nd.zeros(num_outputs)\n",
    "\n",
    "params = [W1, b1, W2, b2]\n",
    "\n",
    "for param in params:\n",
    "    param.attach_grad()\n",
    "    \n",
    "loss = gloss.SoftmaxCrossEntropyLoss()\n",
    "num_epochs, lr = 5, 0.5\n",
    "d2l.train_ch3(net, train_iter, test_iter, loss, num_epochs, batch_size,\n",
    "              params, lr)"
   ]
  },
  {
   "cell_type": "code",
   "execution_count": 14,
   "metadata": {
    "ExecuteTime": {
     "end_time": "2019-05-14T06:58:35.980900Z",
     "start_time": "2019-05-14T06:58:35.975923Z"
    }
   },
   "outputs": [],
   "source": [
    "def net(X):\n",
    "    # 先通过reshape函数将每张原始图像改成长度为num_inputs的向量\n",
    "    X = X.reshape((-1, num_inputs))\n",
    "    # 第一层先过线性模型再激活，输出\n",
    "    H1 = relu(nd.dot(X, W1) + b1)\n",
    "    H2 = relu(nd.dot(H1, W2) + b2)\n",
    "    # 第二层过线性模型，结果不用softmax，softmax放到损失函数那一块\n",
    "    return nd.dot(H2, W3) + b3"
   ]
  },
  {
   "cell_type": "code",
   "execution_count": 17,
   "metadata": {
    "ExecuteTime": {
     "end_time": "2019-05-14T07:01:01.667220Z",
     "start_time": "2019-05-14T07:00:31.490181Z"
    }
   },
   "outputs": [
    {
     "name": "stdout",
     "output_type": "stream",
     "text": [
      "epoch 1, loss 1.2189, train acc 0.521, test acc 0.754\n",
      "epoch 2, loss 0.6001, train acc 0.774, test acc 0.836\n",
      "epoch 3, loss 0.4941, train acc 0.817, test acc 0.844\n",
      "epoch 4, loss 0.4258, train acc 0.842, test acc 0.857\n",
      "epoch 5, loss 0.4010, train acc 0.850, test acc 0.868\n"
     ]
    }
   ],
   "source": [
    "batch_size = 256\n",
    "train_iter, test_iter = d2l.load_data_fashion_mnist(batch_size)\n",
    "\n",
    "num_inputs, num_outputs, num_hiddens1, num_hiddens2 = 784, 10, 256, 64\n",
    "# 第一层以num_inputs为输入，num_hiddens为输出\n",
    "W1 = nd.random.normal(scale=0.01, shape=(num_inputs, num_hiddens1))\n",
    "b1 = nd.zeros(num_hiddens1)\n",
    "# 第二层以num_hiddens为输入，num_outputs为输出\n",
    "W2 = nd.random.normal(scale=0.01, shape=(num_hiddens1, num_hiddens2))\n",
    "b2 = nd.zeros(num_hiddens2)\n",
    "\n",
    "W3 = nd.random.normal(scale=0.01, shape=(num_hiddens2, num_outputs))\n",
    "b3 = nd.zeros(num_outputs)\n",
    "\n",
    "params = [W1, b1, W2, b2, W3, b3]\n",
    "\n",
    "for param in params:\n",
    "    param.attach_grad()\n",
    "    \n",
    "loss = gloss.SoftmaxCrossEntropyLoss()\n",
    "num_epochs, lr = 5, 0.5\n",
    "d2l.train_ch3(net, train_iter, test_iter, loss, num_epochs, batch_size,\n",
    "              params, lr)"
   ]
  },
  {
   "cell_type": "code",
   "execution_count": null,
   "metadata": {},
   "outputs": [],
   "source": []
  },
  {
   "cell_type": "code",
   "execution_count": null,
   "metadata": {},
   "outputs": [],
   "source": []
  }
 ],
 "metadata": {
  "kernelspec": {
   "display_name": "gluon",
   "language": "python",
   "name": "gluon"
  },
  "language_info": {
   "codemirror_mode": {
    "name": "ipython",
    "version": 3
   },
   "file_extension": ".py",
   "mimetype": "text/x-python",
   "name": "python",
   "nbconvert_exporter": "python",
   "pygments_lexer": "ipython3",
   "version": "3.6.8"
  },
  "toc": {
   "base_numbering": 1,
   "nav_menu": {},
   "number_sections": true,
   "sideBar": true,
   "skip_h1_title": false,
   "title_cell": "Table of Contents",
   "title_sidebar": "Contents",
   "toc_cell": false,
   "toc_position": {},
   "toc_section_display": true,
   "toc_window_display": false
  },
  "varInspector": {
   "cols": {
    "lenName": 16,
    "lenType": 16,
    "lenVar": 40
   },
   "kernels_config": {
    "python": {
     "delete_cmd_postfix": "",
     "delete_cmd_prefix": "del ",
     "library": "var_list.py",
     "varRefreshCmd": "print(var_dic_list())"
    },
    "r": {
     "delete_cmd_postfix": ") ",
     "delete_cmd_prefix": "rm(",
     "library": "var_list.r",
     "varRefreshCmd": "cat(var_dic_list()) "
    }
   },
   "types_to_exclude": [
    "module",
    "function",
    "builtin_function_or_method",
    "instance",
    "_Feature"
   ],
   "window_display": false
  }
 },
 "nbformat": 4,
 "nbformat_minor": 2
}
